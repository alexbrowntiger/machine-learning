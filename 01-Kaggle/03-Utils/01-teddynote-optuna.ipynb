{
 "cells": [
  {
   "cell_type": "markdown",
   "id": "0a5d45c3",
   "metadata": {},
   "source": [
    "## 경진대회 BASELINE을 잡기 위한 optune + [xgboost, lightgbm, catboost]"
   ]
  },
  {
   "cell_type": "markdown",
   "id": "cbc3bb58",
   "metadata": {},
   "source": [
    "경진대회에서 모델의 Hyperparameter 튜닝에 드는 노력과 시간을 절약하기 위하여 xgboost, lightgbm, catboost 3개의 라이브러리에 대하여 optuna 튜닝을 적용하여 예측 값을 산출해 내는 로직을 라이브러리 형태로 패키징 했습니다.\n",
    "\n",
    "지원하는 예측 종류는\n",
    "- 회귀(regression)\n",
    "- 이진분류(binary classification)\n",
    "- 다중분류(multi-class classification)\n",
    "\n",
    "입니다.\n",
    "\n",
    "앞으로 라이브러리 개선작업을 통해 더 빠르게 최적화할 수 있도록 개선해 나갈 계획입니다."
   ]
  },
  {
   "cell_type": "markdown",
   "id": "556c43a1",
   "metadata": {},
   "source": [
    "## 설치"
   ]
  },
  {
   "cell_type": "code",
   "execution_count": null,
   "id": "2fad6547",
   "metadata": {},
   "outputs": [],
   "source": [
    "!pip install -U teddynote"
   ]
  },
  {
   "cell_type": "code",
   "execution_count": 2,
   "id": "9f08a9cf",
   "metadata": {},
   "outputs": [],
   "source": [
    "# 모듈 import \n",
    "from teddynote import models"
   ]
  },
  {
   "cell_type": "markdown",
   "id": "60558b64",
   "metadata": {},
   "source": [
    "## 샘플 데이터셋 로드"
   ]
  },
  {
   "cell_type": "code",
   "execution_count": 3,
   "id": "da7609a3",
   "metadata": {},
   "outputs": [],
   "source": [
    "import pandas as pd\n",
    "import numpy as np\n",
    "import matplotlib.pyplot as plt\n",
    "import seaborn as sns\n",
    "import warnings\n",
    "\n",
    "from sklearn.datasets import load_iris, load_boston, load_breast_cancer\n",
    "from sklearn.model_selection import train_test_split\n",
    "from sklearn.metrics import mean_squared_error\n",
    "\n",
    "import lightgbm as lgb\n",
    "import xgboost as xgb\n",
    "import catboost as cb\n",
    "\n",
    "from lightgbm import LGBMRegressor, LGBMClassifier\n",
    "from xgboost import XGBRegressor, XGBClassifier\n",
    "from catboost import CatBoostRegressor, CatBoostClassifier\n",
    "\n",
    "warnings.filterwarnings('ignore')\n",
    "\n",
    "SEED = 2021"
   ]
  },
  {
   "cell_type": "code",
   "execution_count": 4,
   "id": "59a99c0e",
   "metadata": {},
   "outputs": [
    {
     "data": {
      "text/html": [
       "<div>\n",
       "<style scoped>\n",
       "    .dataframe tbody tr th:only-of-type {\n",
       "        vertical-align: middle;\n",
       "    }\n",
       "\n",
       "    .dataframe tbody tr th {\n",
       "        vertical-align: top;\n",
       "    }\n",
       "\n",
       "    .dataframe thead th {\n",
       "        text-align: right;\n",
       "    }\n",
       "</style>\n",
       "<table border=\"1\" class=\"dataframe\">\n",
       "  <thead>\n",
       "    <tr style=\"text-align: right;\">\n",
       "      <th></th>\n",
       "      <th>mean radius</th>\n",
       "      <th>mean texture</th>\n",
       "      <th>mean perimeter</th>\n",
       "      <th>mean area</th>\n",
       "      <th>mean smoothness</th>\n",
       "      <th>mean compactness</th>\n",
       "      <th>mean concavity</th>\n",
       "      <th>mean concave points</th>\n",
       "      <th>mean symmetry</th>\n",
       "      <th>mean fractal dimension</th>\n",
       "      <th>...</th>\n",
       "      <th>worst texture</th>\n",
       "      <th>worst perimeter</th>\n",
       "      <th>worst area</th>\n",
       "      <th>worst smoothness</th>\n",
       "      <th>worst compactness</th>\n",
       "      <th>worst concavity</th>\n",
       "      <th>worst concave points</th>\n",
       "      <th>worst symmetry</th>\n",
       "      <th>worst fractal dimension</th>\n",
       "      <th>target</th>\n",
       "    </tr>\n",
       "  </thead>\n",
       "  <tbody>\n",
       "    <tr>\n",
       "      <th>0</th>\n",
       "      <td>17.99</td>\n",
       "      <td>10.38</td>\n",
       "      <td>122.80</td>\n",
       "      <td>1001.0</td>\n",
       "      <td>0.11840</td>\n",
       "      <td>0.27760</td>\n",
       "      <td>0.3001</td>\n",
       "      <td>0.14710</td>\n",
       "      <td>0.2419</td>\n",
       "      <td>0.07871</td>\n",
       "      <td>...</td>\n",
       "      <td>17.33</td>\n",
       "      <td>184.60</td>\n",
       "      <td>2019.0</td>\n",
       "      <td>0.1622</td>\n",
       "      <td>0.6656</td>\n",
       "      <td>0.7119</td>\n",
       "      <td>0.2654</td>\n",
       "      <td>0.4601</td>\n",
       "      <td>0.11890</td>\n",
       "      <td>0</td>\n",
       "    </tr>\n",
       "    <tr>\n",
       "      <th>1</th>\n",
       "      <td>20.57</td>\n",
       "      <td>17.77</td>\n",
       "      <td>132.90</td>\n",
       "      <td>1326.0</td>\n",
       "      <td>0.08474</td>\n",
       "      <td>0.07864</td>\n",
       "      <td>0.0869</td>\n",
       "      <td>0.07017</td>\n",
       "      <td>0.1812</td>\n",
       "      <td>0.05667</td>\n",
       "      <td>...</td>\n",
       "      <td>23.41</td>\n",
       "      <td>158.80</td>\n",
       "      <td>1956.0</td>\n",
       "      <td>0.1238</td>\n",
       "      <td>0.1866</td>\n",
       "      <td>0.2416</td>\n",
       "      <td>0.1860</td>\n",
       "      <td>0.2750</td>\n",
       "      <td>0.08902</td>\n",
       "      <td>0</td>\n",
       "    </tr>\n",
       "    <tr>\n",
       "      <th>2</th>\n",
       "      <td>19.69</td>\n",
       "      <td>21.25</td>\n",
       "      <td>130.00</td>\n",
       "      <td>1203.0</td>\n",
       "      <td>0.10960</td>\n",
       "      <td>0.15990</td>\n",
       "      <td>0.1974</td>\n",
       "      <td>0.12790</td>\n",
       "      <td>0.2069</td>\n",
       "      <td>0.05999</td>\n",
       "      <td>...</td>\n",
       "      <td>25.53</td>\n",
       "      <td>152.50</td>\n",
       "      <td>1709.0</td>\n",
       "      <td>0.1444</td>\n",
       "      <td>0.4245</td>\n",
       "      <td>0.4504</td>\n",
       "      <td>0.2430</td>\n",
       "      <td>0.3613</td>\n",
       "      <td>0.08758</td>\n",
       "      <td>0</td>\n",
       "    </tr>\n",
       "    <tr>\n",
       "      <th>3</th>\n",
       "      <td>11.42</td>\n",
       "      <td>20.38</td>\n",
       "      <td>77.58</td>\n",
       "      <td>386.1</td>\n",
       "      <td>0.14250</td>\n",
       "      <td>0.28390</td>\n",
       "      <td>0.2414</td>\n",
       "      <td>0.10520</td>\n",
       "      <td>0.2597</td>\n",
       "      <td>0.09744</td>\n",
       "      <td>...</td>\n",
       "      <td>26.50</td>\n",
       "      <td>98.87</td>\n",
       "      <td>567.7</td>\n",
       "      <td>0.2098</td>\n",
       "      <td>0.8663</td>\n",
       "      <td>0.6869</td>\n",
       "      <td>0.2575</td>\n",
       "      <td>0.6638</td>\n",
       "      <td>0.17300</td>\n",
       "      <td>0</td>\n",
       "    </tr>\n",
       "    <tr>\n",
       "      <th>4</th>\n",
       "      <td>20.29</td>\n",
       "      <td>14.34</td>\n",
       "      <td>135.10</td>\n",
       "      <td>1297.0</td>\n",
       "      <td>0.10030</td>\n",
       "      <td>0.13280</td>\n",
       "      <td>0.1980</td>\n",
       "      <td>0.10430</td>\n",
       "      <td>0.1809</td>\n",
       "      <td>0.05883</td>\n",
       "      <td>...</td>\n",
       "      <td>16.67</td>\n",
       "      <td>152.20</td>\n",
       "      <td>1575.0</td>\n",
       "      <td>0.1374</td>\n",
       "      <td>0.2050</td>\n",
       "      <td>0.4000</td>\n",
       "      <td>0.1625</td>\n",
       "      <td>0.2364</td>\n",
       "      <td>0.07678</td>\n",
       "      <td>0</td>\n",
       "    </tr>\n",
       "  </tbody>\n",
       "</table>\n",
       "<p>5 rows × 31 columns</p>\n",
       "</div>"
      ],
      "text/plain": [
       "   mean radius  mean texture  mean perimeter  mean area  mean smoothness  \\\n",
       "0        17.99         10.38          122.80     1001.0          0.11840   \n",
       "1        20.57         17.77          132.90     1326.0          0.08474   \n",
       "2        19.69         21.25          130.00     1203.0          0.10960   \n",
       "3        11.42         20.38           77.58      386.1          0.14250   \n",
       "4        20.29         14.34          135.10     1297.0          0.10030   \n",
       "\n",
       "   mean compactness  mean concavity  mean concave points  mean symmetry  \\\n",
       "0           0.27760          0.3001              0.14710         0.2419   \n",
       "1           0.07864          0.0869              0.07017         0.1812   \n",
       "2           0.15990          0.1974              0.12790         0.2069   \n",
       "3           0.28390          0.2414              0.10520         0.2597   \n",
       "4           0.13280          0.1980              0.10430         0.1809   \n",
       "\n",
       "   mean fractal dimension  ...  worst texture  worst perimeter  worst area  \\\n",
       "0                 0.07871  ...          17.33           184.60      2019.0   \n",
       "1                 0.05667  ...          23.41           158.80      1956.0   \n",
       "2                 0.05999  ...          25.53           152.50      1709.0   \n",
       "3                 0.09744  ...          26.50            98.87       567.7   \n",
       "4                 0.05883  ...          16.67           152.20      1575.0   \n",
       "\n",
       "   worst smoothness  worst compactness  worst concavity  worst concave points  \\\n",
       "0            0.1622             0.6656           0.7119                0.2654   \n",
       "1            0.1238             0.1866           0.2416                0.1860   \n",
       "2            0.1444             0.4245           0.4504                0.2430   \n",
       "3            0.2098             0.8663           0.6869                0.2575   \n",
       "4            0.1374             0.2050           0.4000                0.1625   \n",
       "\n",
       "   worst symmetry  worst fractal dimension  target  \n",
       "0          0.4601                  0.11890       0  \n",
       "1          0.2750                  0.08902       0  \n",
       "2          0.3613                  0.08758       0  \n",
       "3          0.6638                  0.17300       0  \n",
       "4          0.2364                  0.07678       0  \n",
       "\n",
       "[5 rows x 31 columns]"
      ]
     },
     "execution_count": 4,
     "metadata": {},
     "output_type": "execute_result"
    }
   ],
   "source": [
    "# Binary Class Datasets\n",
    "cancer = load_breast_cancer()\n",
    "cancer_df = pd.DataFrame(cancer['data'], columns=cancer['feature_names'])\n",
    "cancer_df['target'] = cancer['target']\n",
    "cancer_df.head()"
   ]
  },
  {
   "cell_type": "code",
   "execution_count": 5,
   "id": "9972ff36",
   "metadata": {},
   "outputs": [
    {
     "data": {
      "text/html": [
       "<div>\n",
       "<style scoped>\n",
       "    .dataframe tbody tr th:only-of-type {\n",
       "        vertical-align: middle;\n",
       "    }\n",
       "\n",
       "    .dataframe tbody tr th {\n",
       "        vertical-align: top;\n",
       "    }\n",
       "\n",
       "    .dataframe thead th {\n",
       "        text-align: right;\n",
       "    }\n",
       "</style>\n",
       "<table border=\"1\" class=\"dataframe\">\n",
       "  <thead>\n",
       "    <tr style=\"text-align: right;\">\n",
       "      <th></th>\n",
       "      <th>sepal length (cm)</th>\n",
       "      <th>sepal width (cm)</th>\n",
       "      <th>petal length (cm)</th>\n",
       "      <th>petal width (cm)</th>\n",
       "      <th>target</th>\n",
       "    </tr>\n",
       "  </thead>\n",
       "  <tbody>\n",
       "    <tr>\n",
       "      <th>0</th>\n",
       "      <td>5.1</td>\n",
       "      <td>3.5</td>\n",
       "      <td>1.4</td>\n",
       "      <td>0.2</td>\n",
       "      <td>0</td>\n",
       "    </tr>\n",
       "    <tr>\n",
       "      <th>1</th>\n",
       "      <td>4.9</td>\n",
       "      <td>3.0</td>\n",
       "      <td>1.4</td>\n",
       "      <td>0.2</td>\n",
       "      <td>0</td>\n",
       "    </tr>\n",
       "    <tr>\n",
       "      <th>2</th>\n",
       "      <td>4.7</td>\n",
       "      <td>3.2</td>\n",
       "      <td>1.3</td>\n",
       "      <td>0.2</td>\n",
       "      <td>0</td>\n",
       "    </tr>\n",
       "    <tr>\n",
       "      <th>3</th>\n",
       "      <td>4.6</td>\n",
       "      <td>3.1</td>\n",
       "      <td>1.5</td>\n",
       "      <td>0.2</td>\n",
       "      <td>0</td>\n",
       "    </tr>\n",
       "    <tr>\n",
       "      <th>4</th>\n",
       "      <td>5.0</td>\n",
       "      <td>3.6</td>\n",
       "      <td>1.4</td>\n",
       "      <td>0.2</td>\n",
       "      <td>0</td>\n",
       "    </tr>\n",
       "  </tbody>\n",
       "</table>\n",
       "</div>"
      ],
      "text/plain": [
       "   sepal length (cm)  sepal width (cm)  petal length (cm)  petal width (cm)  \\\n",
       "0                5.1               3.5                1.4               0.2   \n",
       "1                4.9               3.0                1.4               0.2   \n",
       "2                4.7               3.2                1.3               0.2   \n",
       "3                4.6               3.1                1.5               0.2   \n",
       "4                5.0               3.6                1.4               0.2   \n",
       "\n",
       "   target  \n",
       "0       0  \n",
       "1       0  \n",
       "2       0  \n",
       "3       0  \n",
       "4       0  "
      ]
     },
     "execution_count": 5,
     "metadata": {},
     "output_type": "execute_result"
    }
   ],
   "source": [
    "# Multi Class Datasets\n",
    "iris = load_iris()\n",
    "iris_df = pd.DataFrame(iris['data'], columns=iris['feature_names'])\n",
    "iris_df['target'] = iris['target']\n",
    "iris_df.head()"
   ]
  },
  {
   "cell_type": "code",
   "execution_count": 6,
   "id": "657a0887",
   "metadata": {},
   "outputs": [
    {
     "data": {
      "text/html": [
       "<div>\n",
       "<style scoped>\n",
       "    .dataframe tbody tr th:only-of-type {\n",
       "        vertical-align: middle;\n",
       "    }\n",
       "\n",
       "    .dataframe tbody tr th {\n",
       "        vertical-align: top;\n",
       "    }\n",
       "\n",
       "    .dataframe thead th {\n",
       "        text-align: right;\n",
       "    }\n",
       "</style>\n",
       "<table border=\"1\" class=\"dataframe\">\n",
       "  <thead>\n",
       "    <tr style=\"text-align: right;\">\n",
       "      <th></th>\n",
       "      <th>CRIM</th>\n",
       "      <th>ZN</th>\n",
       "      <th>INDUS</th>\n",
       "      <th>CHAS</th>\n",
       "      <th>NOX</th>\n",
       "      <th>RM</th>\n",
       "      <th>AGE</th>\n",
       "      <th>DIS</th>\n",
       "      <th>RAD</th>\n",
       "      <th>TAX</th>\n",
       "      <th>PTRATIO</th>\n",
       "      <th>B</th>\n",
       "      <th>LSTAT</th>\n",
       "      <th>target</th>\n",
       "    </tr>\n",
       "  </thead>\n",
       "  <tbody>\n",
       "    <tr>\n",
       "      <th>0</th>\n",
       "      <td>0.00632</td>\n",
       "      <td>18.0</td>\n",
       "      <td>2.31</td>\n",
       "      <td>0.0</td>\n",
       "      <td>0.538</td>\n",
       "      <td>6.575</td>\n",
       "      <td>65.2</td>\n",
       "      <td>4.0900</td>\n",
       "      <td>1.0</td>\n",
       "      <td>296.0</td>\n",
       "      <td>15.3</td>\n",
       "      <td>396.90</td>\n",
       "      <td>4.98</td>\n",
       "      <td>24.0</td>\n",
       "    </tr>\n",
       "    <tr>\n",
       "      <th>1</th>\n",
       "      <td>0.02731</td>\n",
       "      <td>0.0</td>\n",
       "      <td>7.07</td>\n",
       "      <td>0.0</td>\n",
       "      <td>0.469</td>\n",
       "      <td>6.421</td>\n",
       "      <td>78.9</td>\n",
       "      <td>4.9671</td>\n",
       "      <td>2.0</td>\n",
       "      <td>242.0</td>\n",
       "      <td>17.8</td>\n",
       "      <td>396.90</td>\n",
       "      <td>9.14</td>\n",
       "      <td>21.6</td>\n",
       "    </tr>\n",
       "    <tr>\n",
       "      <th>2</th>\n",
       "      <td>0.02729</td>\n",
       "      <td>0.0</td>\n",
       "      <td>7.07</td>\n",
       "      <td>0.0</td>\n",
       "      <td>0.469</td>\n",
       "      <td>7.185</td>\n",
       "      <td>61.1</td>\n",
       "      <td>4.9671</td>\n",
       "      <td>2.0</td>\n",
       "      <td>242.0</td>\n",
       "      <td>17.8</td>\n",
       "      <td>392.83</td>\n",
       "      <td>4.03</td>\n",
       "      <td>34.7</td>\n",
       "    </tr>\n",
       "    <tr>\n",
       "      <th>3</th>\n",
       "      <td>0.03237</td>\n",
       "      <td>0.0</td>\n",
       "      <td>2.18</td>\n",
       "      <td>0.0</td>\n",
       "      <td>0.458</td>\n",
       "      <td>6.998</td>\n",
       "      <td>45.8</td>\n",
       "      <td>6.0622</td>\n",
       "      <td>3.0</td>\n",
       "      <td>222.0</td>\n",
       "      <td>18.7</td>\n",
       "      <td>394.63</td>\n",
       "      <td>2.94</td>\n",
       "      <td>33.4</td>\n",
       "    </tr>\n",
       "    <tr>\n",
       "      <th>4</th>\n",
       "      <td>0.06905</td>\n",
       "      <td>0.0</td>\n",
       "      <td>2.18</td>\n",
       "      <td>0.0</td>\n",
       "      <td>0.458</td>\n",
       "      <td>7.147</td>\n",
       "      <td>54.2</td>\n",
       "      <td>6.0622</td>\n",
       "      <td>3.0</td>\n",
       "      <td>222.0</td>\n",
       "      <td>18.7</td>\n",
       "      <td>396.90</td>\n",
       "      <td>5.33</td>\n",
       "      <td>36.2</td>\n",
       "    </tr>\n",
       "  </tbody>\n",
       "</table>\n",
       "</div>"
      ],
      "text/plain": [
       "      CRIM    ZN  INDUS  CHAS    NOX     RM   AGE     DIS  RAD    TAX  \\\n",
       "0  0.00632  18.0   2.31   0.0  0.538  6.575  65.2  4.0900  1.0  296.0   \n",
       "1  0.02731   0.0   7.07   0.0  0.469  6.421  78.9  4.9671  2.0  242.0   \n",
       "2  0.02729   0.0   7.07   0.0  0.469  7.185  61.1  4.9671  2.0  242.0   \n",
       "3  0.03237   0.0   2.18   0.0  0.458  6.998  45.8  6.0622  3.0  222.0   \n",
       "4  0.06905   0.0   2.18   0.0  0.458  7.147  54.2  6.0622  3.0  222.0   \n",
       "\n",
       "   PTRATIO       B  LSTAT  target  \n",
       "0     15.3  396.90   4.98    24.0  \n",
       "1     17.8  396.90   9.14    21.6  \n",
       "2     17.8  392.83   4.03    34.7  \n",
       "3     18.7  394.63   2.94    33.4  \n",
       "4     18.7  396.90   5.33    36.2  "
      ]
     },
     "execution_count": 6,
     "metadata": {},
     "output_type": "execute_result"
    }
   ],
   "source": [
    "# Regression Datasets\n",
    "boston = load_boston()\n",
    "boston_df = pd.DataFrame(boston['data'], columns=boston['feature_names'])\n",
    "boston_df['target'] = boston['target']\n",
    "boston_df.head()"
   ]
  },
  {
   "cell_type": "markdown",
   "id": "ed8ab797",
   "metadata": {},
   "source": [
    "## 간단 사용법"
   ]
  },
  {
   "cell_type": "markdown",
   "id": "5a26b004",
   "metadata": {},
   "source": [
    "### optimize()\n",
    "\n",
    "```\n",
    "optimize(\n",
    "    x,\n",
    "    y,\n",
    "    test_data=None,\n",
    "    cat_features=None,\n",
    "    eval_metric='f1',\n",
    "    cv=5,\n",
    "    seed=None,\n",
    "    n_rounds=3000,\n",
    "    n_trials=100,\n",
    ")\n",
    "```"
   ]
  },
  {
   "cell_type": "markdown",
   "id": "8b91b1bd",
   "metadata": {},
   "source": [
    "**입력 매개변수**\n",
    "\n",
    "- `x`: Feature 데이터\n",
    "- `y`: Target 데이터\n",
    "- `test_data`: 예측 데이터 (test 데이터의 feature 데이터)\n",
    "- `cat_features`: 카테고리형 컬럼\n",
    "- `eval_metric`: 최적화할 메트릭 ('f1', 'accuracy', 'recall', 'precision', 'mse', 'rmse', 'rmsle')\n",
    "- `cv`: cross validation fold 개수\n",
    "- `seed`: 시드\n",
    "- `n_rounds`: 학습시 최대 iteration 횟수\n",
    "- `n_trials`: optuna 하이퍼파라미터 튜닝 시도 횟수\n",
    "\n",
    "**return**\n",
    "- `params`: best 하이퍼파라미터\n",
    "- `preds`: `test_data` 매개변수에 데이터를 지정한 경우 이에 대한 예측 값"
   ]
  },
  {
   "cell_type": "markdown",
   "id": "3e6fb5cc",
   "metadata": {},
   "source": [
    "### 결과값 자동저장 기능"
   ]
  },
  {
   "cell_type": "markdown",
   "id": "09b25df7",
   "metadata": {},
   "source": [
    "optimizer() 로 튜닝 + 예측한 결과는 `numpy array` 형식으로 자동 저장합니다.\n",
    "\n",
    "- 저장 경로: `models` 폴더"
   ]
  },
  {
   "cell_type": "markdown",
   "id": "7eae92e9",
   "metadata": {},
   "source": [
    "## CatBoost + Optuna"
   ]
  },
  {
   "cell_type": "markdown",
   "id": "a83e6606",
   "metadata": {},
   "source": [
    "### 이진분류(binary classification)"
   ]
  },
  {
   "cell_type": "code",
   "execution_count": null,
   "id": "8cd0e3dc",
   "metadata": {
    "scrolled": true
   },
   "outputs": [],
   "source": [
    "catboostoptuna = models.CatBoostClassifierOptuna(use_gpu=False)\n",
    "\n",
    "params, preds = catboostoptuna.optimize(iris_df.drop('target', 1), \n",
    "                                        iris_df['target'], \n",
    "                                        test_data=iris_df.drop('target', 1),\n",
    "                                        seed=321,\n",
    "                                        eval_metric='recall', n_trials=3)\n",
    "\n",
    "(np.squeeze(preds) == iris_df['target']).mean()"
   ]
  },
  {
   "cell_type": "markdown",
   "id": "90e1ac45",
   "metadata": {},
   "source": [
    "### 다중분류(multi-class classification)"
   ]
  },
  {
   "cell_type": "code",
   "execution_count": null,
   "id": "21a91f19",
   "metadata": {},
   "outputs": [],
   "source": [
    "catboostoptuna = models.CatBoostClassifierOptuna()\n",
    "\n",
    "params, preds = catboostoptuna.optimize(cancer_df.drop('target', 1), \n",
    "                                        cancer_df['target'], \n",
    "                                        test_data=cancer_df.drop('target', 1),\n",
    "                                        seed=321,\n",
    "                                        eval_metric='recall', n_trials=3)\n",
    "\n",
    "(np.squeeze(preds) == cancer_df['target']).mean()"
   ]
  },
  {
   "cell_type": "markdown",
   "id": "8864b020",
   "metadata": {},
   "source": [
    "### 회귀(regression)"
   ]
  },
  {
   "cell_type": "code",
   "execution_count": null,
   "id": "e9686c26",
   "metadata": {},
   "outputs": [],
   "source": [
    "for col in ['CHAS', 'RAD', 'ZN']:\n",
    "    boston_df[col] = boston_df[col].astype('int')\n",
    "    \n",
    "catboostoptuna_reg = models.CatBoostRegressorOptuna(use_gpu=False)\n",
    "        \n",
    "params, preds = catboostoptuna_reg.optimize(boston_df.drop('target', 1), \n",
    "                                            boston_df['target'], \n",
    "                                            test_data=boston_df.drop('target', 1),\n",
    "                                            # int, str 타입 이어야 한다. float는 허용하지 않음\n",
    "                                            cat_features=['CHAS', 'RAD', 'ZN'],\n",
    "                                            eval_metric='rmse', n_trials=3)\n",
    "\n",
    "mean_squared_error(boston_df['target'], preds)"
   ]
  },
  {
   "cell_type": "markdown",
   "id": "5c56a835",
   "metadata": {},
   "source": [
    "### 저장한 파일로부터 예측 값 (prediction) 불러오기"
   ]
  },
  {
   "cell_type": "code",
   "execution_count": 7,
   "id": "07dd9c58",
   "metadata": {},
   "outputs": [
    {
     "data": {
      "text/plain": [
       "array([28.76168717, 21.97469764, 33.91423778, 36.25317587, 34.89063327,\n",
       "       30.36592103, 21.62216055, 21.67925239, 16.13744104, 18.55325167,\n",
       "       19.19114681, 20.39200754, 20.4851822 , 20.18992755, 19.53332984,\n",
       "       19.95333642, 21.90489984, 17.43089179, 19.28067897, 18.75662987,\n",
       "       13.27196673, 17.43784243, 16.54706384, 14.6641719 , 15.98753177,\n",
       "       14.55392224, 16.07654144, 15.15717605, 18.46626451, 19.14277466,\n",
       "       13.42305337, 16.08031477, 13.88189742, 15.42776871, 13.93921857,\n",
       "       21.76392661, 20.96989226, 22.05468906, 23.01954988, 30.38238318,\n",
       "       35.86242058, 27.86047868, 24.46726054, 24.81965244, 21.93943212,\n",
       "       20.97466042, 19.40221015, 17.69406529, 14.9838815 , 18.13447461,\n",
       "       20.67717755, 22.8037252 , 27.00797342, 22.50247985, 18.38411847,\n",
       "       34.59829013, 25.66841753, 34.24698692, 23.25394891, 20.56548366,\n",
       "       18.08249006, 15.98063826, 23.92861079, 24.18700647, 31.40892682,\n",
       "       25.84846134, 19.79075001, 20.42532382, 18.62746158, 20.80022091,\n",
       "       23.33964199, 21.12974915, 22.61460761, 23.59166397, 23.77889816,\n",
       "       22.56759439, 20.36601319, 21.90976033, 20.22201645, 20.79508199,\n",
       "       26.11453205, 23.92772329, 24.00113404, 22.73930675, 23.72290053,\n",
       "       26.13084916, 21.3290855 , 24.25999642, 28.84149579, 30.07779444,\n",
       "       25.15881721, 25.06305693, 23.06077441, 24.28432971, 20.45356778,\n",
       "       27.53869606, 25.76019718, 39.81858701, 41.84946703, 34.55262548,\n",
       "       24.02980442, 25.65445863, 20.71075989, 20.2305375 , 19.82863103,\n",
       "       16.79407357, 17.75558312, 18.35677353, 19.65660082, 18.0508654 ,\n",
       "       21.5689087 , 23.06746945, 18.09671889, 18.42912872, 21.51601955,\n",
       "       17.52104662, 21.19149237, 21.53741825, 18.60982263, 19.8353869 ,\n",
       "       21.78394929, 20.82479114, 19.52986522, 16.34316023, 19.12320234,\n",
       "       20.51817182, 15.84022485, 14.82196509, 17.39604813, 15.71638676,\n",
       "       19.23800906, 19.38498764, 20.40981153, 17.61717099, 15.42971604,\n",
       "       17.70507511, 16.60916137, 18.13055393, 12.97506937, 16.57567281,\n",
       "       15.20248486, 14.23643501, 13.36728264, 14.72898506, 13.55049322,\n",
       "       14.9755267 , 16.03064387, 14.98655171, 15.15773699, 15.42038297,\n",
       "       19.80594139, 18.72855912, 16.47855863, 16.13431554, 17.39118588,\n",
       "       18.95159967, 16.80484215, 36.44802584, 27.31847993, 24.42104749,\n",
       "       33.32831742, 48.17558575, 48.10500758, 50.10220898, 21.6445183 ,\n",
       "       24.25216144, 46.87931622, 22.3243491 , 23.54260782, 23.23930775,\n",
       "       20.11795752, 20.55089244, 21.96288645, 25.19124179, 23.64260695,\n",
       "       28.62909465, 24.51323548, 24.80628451, 30.42589992, 37.3450949 ,\n",
       "       38.4181347 , 30.23559046, 38.05903337, 31.71650322, 26.26537372,\n",
       "       28.50830185, 45.52756479, 30.25326372, 30.14612204, 32.84831893,\n",
       "       29.96189048, 29.83769357, 35.86649294, 31.06581569, 29.52652706,\n",
       "       47.51160949, 36.3245743 , 29.81679975, 33.0799321 , 32.54773576,\n",
       "       34.19546892, 25.76115073, 41.09042432, 48.59485047, 48.31403964,\n",
       "       21.86601009, 22.41873571, 19.98276713, 23.41414041, 18.99296122,\n",
       "       20.94222734, 19.85599395, 22.46012421, 23.23118424, 22.33826844,\n",
       "       24.35427176, 22.84754784, 26.78443297, 22.02070077, 25.00887251,\n",
       "       29.11967995, 21.35142102, 28.4845406 , 28.13266249, 43.55809324,\n",
       "       43.92528527, 41.41070297, 33.03739803, 43.98911308, 34.88425066,\n",
       "       23.95836477, 35.73025736, 43.16032433, 43.04690079, 27.64386148,\n",
       "       24.70308422, 25.4884944 , 37.47134395, 24.75982658, 24.46682263,\n",
       "       24.01787678, 20.55522458, 21.81256414, 25.1210334 , 18.84767363,\n",
       "       18.65530061, 23.31803976, 20.90605542, 23.2340228 , 25.26291264,\n",
       "       24.24455301, 29.6144702 , 31.89752872, 40.56324634, 23.53199626,\n",
       "       19.96194628, 40.74456114, 48.1240842 , 36.47112068, 31.95761281,\n",
       "       35.22692603, 41.08284384, 43.59715004, 32.69785587, 38.395269  ,\n",
       "       29.9962736 , 31.91708957, 40.03140873, 46.20098888, 21.80400282,\n",
       "       20.18597404, 25.8267357 , 25.12578985, 35.62999617, 33.24609222,\n",
       "       32.1246326 , 32.1276531 , 33.20775978, 26.22963653, 35.73998533,\n",
       "       44.73786966, 36.20293923, 46.15322327, 50.76547855, 31.24164863,\n",
       "       24.72412287, 20.28457479, 22.92577672, 22.80344633, 23.12369478,\n",
       "       31.17422305, 35.1362746 , 26.74748661, 23.54393337, 22.04051644,\n",
       "       26.52810061, 25.09489421, 19.48346588, 26.88560752, 32.68850504,\n",
       "       27.88899813, 23.20912832, 24.87111363, 32.28653345, 33.91915569,\n",
       "       28.80376445, 35.01262449, 29.21634021, 25.79724389, 22.05887928,\n",
       "       21.3824104 , 23.18025825, 20.00625817, 23.00639761, 22.75589549,\n",
       "       17.94145995, 18.06389734, 18.02561674, 22.79710775, 20.21203719,\n",
       "       23.45896878, 23.04214565, 22.94954438, 18.56859949, 24.6756368 ,\n",
       "       25.56719479, 24.084167  , 20.2480269 , 20.91046936, 24.25174757,\n",
       "       21.23424581, 16.49834945, 19.66746909, 21.4557298 , 21.65723782,\n",
       "       20.06222367, 19.22627356, 18.87736706, 20.04211261, 19.71010834,\n",
       "       19.77379091, 32.5851722 , 24.65104583, 24.97530297, 30.10281989,\n",
       "       19.2971915 , 17.20332405, 23.85532316, 25.69790452, 26.13244964,\n",
       "       23.82816976, 24.07280403, 22.60158478, 31.12142614, 21.94114302,\n",
       "       23.35171169, 18.76796541, 18.91663659, 23.34380777, 20.45138255,\n",
       "       22.45630745, 17.74251749, 21.83864988, 18.43330579, 23.54134213,\n",
       "       26.68331628, 19.25077592, 22.754818  , 38.81018216, 49.26446287,\n",
       "       50.79271301, 39.70994055, 47.02221074, 12.5120863 , 13.44238312,\n",
       "       16.03211618, 14.14478663, 12.77288871, 11.2105293 , 12.32364567,\n",
       "       12.25072646, 10.34790415, 10.53523456, 10.7030971 , 11.42738056,\n",
       "        8.88825104,  9.34983733,  9.12203832, 11.97584357, 11.17106292,\n",
       "       14.56801675, 16.83874389, 10.02438036, 13.9523593 , 13.26336838,\n",
       "       13.90404049, 12.99194972, 11.10259056,  7.3404075 ,  9.94517994,\n",
       "        7.68810727, 10.44760646, 12.67179266, 10.04602704,  9.2217173 ,\n",
       "        9.49584146, 18.29746443, 26.3683067 , 16.04251865, 20.71751946,\n",
       "       27.65855805, 16.86487185, 14.54875179, 15.70205646,  8.96022422,\n",
       "        9.18930385, 10.93764513,  9.52636606,  9.02340857,  9.99152837,\n",
       "       15.03190469, 14.90398513, 17.58508063, 13.3390705 , 13.65630505,\n",
       "        9.17099086, 13.15485696, 11.95532373, 11.0969807 , 10.75318325,\n",
       "       15.2116026 , 15.75387832, 18.8499195 , 14.90319747, 13.90606762,\n",
       "       11.24903563, 12.25064494, 10.36012359,  9.54165187, 11.81341828,\n",
       "       10.84391803, 13.36466617, 15.57695542, 14.26152587, 10.23491255,\n",
       "       10.70045996, 14.70878743, 14.79437752, 14.33805741, 13.99509979,\n",
       "       13.91139729, 15.20039866, 16.1576856 , 18.10186486, 13.92352322,\n",
       "       14.85029811, 14.2714253 , 15.14535685, 16.80094021, 18.69923671,\n",
       "       16.33460786, 17.54055978, 19.44845554, 20.11537833, 21.70623678,\n",
       "       19.35919475, 16.46347524, 15.96509858, 17.28791419, 19.37198404,\n",
       "       20.14604739, 20.67226853, 21.52497603, 22.75428627, 16.2353488 ,\n",
       "       15.04075596, 17.64296268, 13.079737  , 16.40755067, 20.24207015,\n",
       "       22.28444162, 23.89979801, 25.88883777, 21.55801563, 20.88892453,\n",
       "       22.86809854, 20.05936591, 21.45465288, 15.16904835,  9.95506956,\n",
       "       10.62074076, 14.6694633 , 19.00900648, 21.3145516 , 22.52886541,\n",
       "       21.62849666, 18.76080567, 21.24361604, 21.34419004, 18.83961699,\n",
       "       20.54947447, 21.35132386, 17.93859277, 23.9005454 , 22.68316054,\n",
       "       17.21506894])"
      ]
     },
     "execution_count": 7,
     "metadata": {},
     "output_type": "execute_result"
    }
   ],
   "source": [
    "# 넘파이 array로 저장된 예측 결과를 로드할 수 있습니다.\n",
    "models.load_prediction_from_file('models/CatBoostRegressor-0.87226.npy')"
   ]
  },
  {
   "cell_type": "markdown",
   "id": "a7ceb78c",
   "metadata": {},
   "source": [
    "### 하이퍼파라미터 튜닝 시각화"
   ]
  },
  {
   "cell_type": "code",
   "execution_count": null,
   "id": "b740ae19",
   "metadata": {},
   "outputs": [],
   "source": [
    "# 튜닝 결과 시각화\n",
    "catboostoptuna_reg.visualize()"
   ]
  },
  {
   "cell_type": "markdown",
   "id": "f4b65391",
   "metadata": {},
   "source": [
    "## XGBoost"
   ]
  },
  {
   "cell_type": "markdown",
   "id": "04662943",
   "metadata": {},
   "source": [
    "### 이진분류(binary classification)"
   ]
  },
  {
   "cell_type": "code",
   "execution_count": null,
   "id": "2a40a99c",
   "metadata": {},
   "outputs": [],
   "source": [
    "xgboptuna = models.XGBClassifierOptuna(use_gpu=False)\n",
    "        \n",
    "params, preds = xgboptuna.optimize(iris_df.drop('target', 1), \n",
    "                                   iris_df['target'], \n",
    "                                   test_data=iris_df.drop('target', 1),\n",
    "                                   seed=321,\n",
    "                                   eval_metric='recall', n_trials=3)\n",
    "\n",
    "(preds == iris_df['target']).mean()"
   ]
  },
  {
   "cell_type": "markdown",
   "id": "a8f4c2c2",
   "metadata": {},
   "source": [
    "### 다중분류(multi-class classification)"
   ]
  },
  {
   "cell_type": "code",
   "execution_count": null,
   "id": "b5738fb0",
   "metadata": {
    "scrolled": true
   },
   "outputs": [],
   "source": [
    "xgboptuna_binary = models.XGBClassifierOptuna(use_gpu=False)\n",
    "        \n",
    "params, preds = xgboptuna_binary.optimize(cancer_df.drop('target', 1), \n",
    "                                          cancer_df['target'], \n",
    "                                          test_data=cancer_df.drop('target', 1), \n",
    "                                          eval_metric='accuracy', n_trials=3)\n",
    "\n",
    "(preds == cancer_df['target']).mean()"
   ]
  },
  {
   "cell_type": "markdown",
   "id": "bdc3d820",
   "metadata": {},
   "source": [
    "### 회귀(regression)"
   ]
  },
  {
   "cell_type": "code",
   "execution_count": null,
   "id": "13c4cc7a",
   "metadata": {},
   "outputs": [],
   "source": [
    "xgboptuna_reg = models.XGBRegressorOptuna()\n",
    "        \n",
    "params, preds = xgboptuna_reg.optimize(boston_df.drop('target', 1), \n",
    "                                       boston_df['target'], \n",
    "                                       test_data=boston_df.drop('target', 1), \n",
    "                                       eval_metric='mse', n_trials=3)\n",
    "\n",
    "mean_squared_error(boston_df['target'], preds)"
   ]
  },
  {
   "cell_type": "markdown",
   "id": "ebf4a303",
   "metadata": {},
   "source": [
    "## LGBM"
   ]
  },
  {
   "cell_type": "markdown",
   "id": "7d24468e",
   "metadata": {},
   "source": [
    "### 이진분류(binary classification)"
   ]
  },
  {
   "cell_type": "code",
   "execution_count": null,
   "id": "a27eb1cd",
   "metadata": {},
   "outputs": [],
   "source": [
    "lgbmoptuna_binary = models.LGBMClassifierOptuna()\n",
    "        \n",
    "params, preds = lgbmoptuna_binary.optimize(cancer_df.drop('target', 1), \n",
    "                                           cancer_df['target'], \n",
    "                                           test_data=cancer_df.drop('target', 1),\n",
    "                                           eval_metric='accuracy', n_trials=3)\n",
    "\n",
    "(preds == cancer_df['target']).mean()"
   ]
  },
  {
   "cell_type": "markdown",
   "id": "4e1fa3d0",
   "metadata": {},
   "source": [
    "### 다중분류(multi-class classification)"
   ]
  },
  {
   "cell_type": "code",
   "execution_count": null,
   "id": "fdd14efd",
   "metadata": {
    "scrolled": true
   },
   "outputs": [],
   "source": [
    "lgbmoptuna = models.LGBMClassifierOptuna()\n",
    "        \n",
    "params, preds = lgbmoptuna.optimize(iris_df.drop('target', 1), \n",
    "                    iris_df['target'], \n",
    "                    seed=321,\n",
    "                    eval_metric='recall', n_trials=3)\n",
    "\n",
    "\n",
    "(preds == iris_df['target']).mean()"
   ]
  },
  {
   "cell_type": "markdown",
   "id": "e7224a3b",
   "metadata": {
    "scrolled": false
   },
   "source": [
    "### 회귀(regression)"
   ]
  },
  {
   "cell_type": "code",
   "execution_count": null,
   "id": "65c73e0c",
   "metadata": {},
   "outputs": [],
   "source": [
    "lgbmoptuna_reg = models.LGBMRegressorOptuna()\n",
    "        \n",
    "params, preds = lgbmoptuna_reg.optimize(boston_df.drop('target', 1), \n",
    "                                        boston_df['target'], \n",
    "                                        test_data=boston_df.drop('target', 1), \n",
    "                                        eval_metric='mse', n_trials=3)\n",
    "\n",
    "mean_squared_error(boston_df['target'], preds)"
   ]
  },
  {
   "cell_type": "markdown",
   "id": "98048f83",
   "metadata": {},
   "source": [
    "## 하이퍼파라미터 범위 수정 (custom)"
   ]
  },
  {
   "cell_type": "code",
   "execution_count": 8,
   "id": "d5e056be",
   "metadata": {},
   "outputs": [
    {
     "name": "stdout",
     "output_type": "stream",
     "text": [
      "name: verbose, fixed_value: -1, type: fixed\n",
      "name: lambda_l1, low: 1e-08, high: 5, type: loguniform\n",
      "name: lambda_l2, low: 1e-08, high: 5, type: loguniform\n",
      "name: path_smooth, low: 1e-08, high: 0.001, type: loguniform\n",
      "name: learning_rate, low: 1e-05, high: 0.1, type: loguniform\n",
      "name: feature_fraction, low: 0.5, high: 0.9, type: uniform\n",
      "name: bagging_fraction, low: 0.5, high: 0.9, type: uniform\n",
      "name: num_leaves, low: 15, high: 90, type: int\n",
      "name: min_data_in_leaf, low: 10, high: 100, type: int\n",
      "name: max_bin, low: 100, high: 255, type: int\n",
      "name: n_estimators, low: 100, high: 3000, type: int\n",
      "name: bagging_freq, low: 0, high: 15, type: int\n",
      "name: min_child_weight, low: 1, high: 20, type: int\n"
     ]
    }
   ],
   "source": [
    "lgbmoptuna = models.LGBMRegressorOptuna()\n",
    "\n",
    "# 기본 값으로 설정된 하이퍼파라미터 출력\n",
    "lgbmoptuna.print_params()"
   ]
  },
  {
   "cell_type": "markdown",
   "id": "d5f8482c",
   "metadata": {},
   "source": [
    "**`param_type`에 관하여**\n",
    "\n",
    "`param_type`은 `int`, `uniform`, `loguniform`, `categorical`, `fixed` 가 있습니다.\n",
    "\n",
    "- `int`, `uniform`, `loguniform`은 optuna의 search range 정의하는 파라미터와 같습니다.\n",
    "\n",
    "```\n",
    "예시)\n",
    "- int 범위(int)\n",
    "lgbmoptuna.set_param(models.OptunaParam('num_leaves', low=10, high=25, param_type='int'))\n",
    "\n",
    "- 카테고리(categorical)\n",
    "cboptuna.set_param(models.OptunaParam('bootstrap_type', categorical_value=['Bayesian', 'Bernoulli', 'MVS'], param_type='categorical'))\n",
    "\n",
    "- 고정된 값(fixed)\n",
    "cboptuna.set_param(models.OptunaParam('one_hot_max_size', fixed_value=1024, param_type='fixed'))\n",
    "```"
   ]
  },
  {
   "cell_type": "code",
   "execution_count": 9,
   "id": "3e5861f0",
   "metadata": {},
   "outputs": [
    {
     "name": "stdout",
     "output_type": "stream",
     "text": [
      "name: verbose, fixed_value: -1, type: fixed\n",
      "name: lambda_l1, low: 1e-08, high: 5, type: loguniform\n",
      "name: lambda_l2, low: 1e-08, high: 5, type: loguniform\n",
      "name: path_smooth, low: 1e-08, high: 0.001, type: loguniform\n",
      "name: learning_rate, low: 1e-05, high: 0.1, type: loguniform\n",
      "name: feature_fraction, low: 0.5, high: 0.9, type: uniform\n",
      "name: bagging_fraction, low: 0.5, high: 0.9, type: uniform\n",
      "name: num_leaves, low: 10, high: 25, type: int\n",
      "name: min_data_in_leaf, low: 10, high: 100, type: int\n",
      "name: max_bin, low: 100, high: 255, type: int\n",
      "name: n_estimators, low: 0, high: 500, type: int\n",
      "name: bagging_freq, low: 0, high: 15, type: int\n",
      "name: min_child_weight, low: 1, high: 20, type: int\n"
     ]
    }
   ],
   "source": [
    "# 하이퍼파라미터 범위 정의\n",
    "lgbmoptuna.set_param(models.OptunaParam('num_leaves', low=10, high=25, param_type='int'))\n",
    "lgbmoptuna.set_param(models.OptunaParam('n_estimators', low=0, high=500, param_type='int'))\n",
    "# 출력\n",
    "lgbmoptuna.print_params()"
   ]
  },
  {
   "cell_type": "code",
   "execution_count": null,
   "id": "3e33c2f9",
   "metadata": {
    "scrolled": true
   },
   "outputs": [],
   "source": [
    "# 달라진 결과값 확인\n",
    "params, preds = lgbmoptuna.optimize(boston_df.drop('target', 1), \n",
    "                                    boston_df['target'], \n",
    "                                    test_data=boston_df.drop('target', 1), \n",
    "                                    eval_metric='mse', n_trials=3)"
   ]
  },
  {
   "cell_type": "markdown",
   "id": "bea27b8c",
   "metadata": {},
   "source": [
    "trial에 대한 결과를 출력합니다."
   ]
  },
  {
   "cell_type": "code",
   "execution_count": 11,
   "id": "8f02177d",
   "metadata": {},
   "outputs": [
    {
     "data": {
      "text/html": [
       "<div>\n",
       "<style scoped>\n",
       "    .dataframe tbody tr th:only-of-type {\n",
       "        vertical-align: middle;\n",
       "    }\n",
       "\n",
       "    .dataframe tbody tr th {\n",
       "        vertical-align: top;\n",
       "    }\n",
       "\n",
       "    .dataframe thead th {\n",
       "        text-align: right;\n",
       "    }\n",
       "</style>\n",
       "<table border=\"1\" class=\"dataframe\">\n",
       "  <thead>\n",
       "    <tr style=\"text-align: right;\">\n",
       "      <th></th>\n",
       "      <th>number</th>\n",
       "      <th>value</th>\n",
       "      <th>datetime_start</th>\n",
       "      <th>datetime_complete</th>\n",
       "      <th>duration</th>\n",
       "      <th>params_bagging_fraction</th>\n",
       "      <th>params_bagging_freq</th>\n",
       "      <th>params_feature_fraction</th>\n",
       "      <th>params_lambda_l1</th>\n",
       "      <th>params_lambda_l2</th>\n",
       "      <th>params_learning_rate</th>\n",
       "      <th>params_max_bin</th>\n",
       "      <th>params_min_child_weight</th>\n",
       "      <th>params_min_data_in_leaf</th>\n",
       "      <th>params_n_estimators</th>\n",
       "      <th>params_num_leaves</th>\n",
       "      <th>params_path_smooth</th>\n",
       "      <th>state</th>\n",
       "    </tr>\n",
       "  </thead>\n",
       "  <tbody>\n",
       "    <tr>\n",
       "      <th>0</th>\n",
       "      <td>0</td>\n",
       "      <td>83.529143</td>\n",
       "      <td>2021-12-31 07:26:21.337195</td>\n",
       "      <td>2021-12-31 07:26:24.492885</td>\n",
       "      <td>0 days 00:00:03.155690</td>\n",
       "      <td>0.508583</td>\n",
       "      <td>9</td>\n",
       "      <td>0.650294</td>\n",
       "      <td>6.415572e-07</td>\n",
       "      <td>4.982401e-02</td>\n",
       "      <td>0.000030</td>\n",
       "      <td>205</td>\n",
       "      <td>6</td>\n",
       "      <td>22</td>\n",
       "      <td>363</td>\n",
       "      <td>14</td>\n",
       "      <td>4.464380e-08</td>\n",
       "      <td>COMPLETE</td>\n",
       "    </tr>\n",
       "    <tr>\n",
       "      <th>1</th>\n",
       "      <td>1</td>\n",
       "      <td>82.696414</td>\n",
       "      <td>2021-12-31 07:26:24.494212</td>\n",
       "      <td>2021-12-31 07:26:26.673476</td>\n",
       "      <td>0 days 00:00:02.179264</td>\n",
       "      <td>0.712115</td>\n",
       "      <td>12</td>\n",
       "      <td>0.703372</td>\n",
       "      <td>4.705313e-08</td>\n",
       "      <td>6.194418e-08</td>\n",
       "      <td>0.000061</td>\n",
       "      <td>254</td>\n",
       "      <td>17</td>\n",
       "      <td>39</td>\n",
       "      <td>323</td>\n",
       "      <td>22</td>\n",
       "      <td>2.821343e-08</td>\n",
       "      <td>COMPLETE</td>\n",
       "    </tr>\n",
       "    <tr>\n",
       "      <th>2</th>\n",
       "      <td>2</td>\n",
       "      <td>20.680800</td>\n",
       "      <td>2021-12-31 07:26:26.674743</td>\n",
       "      <td>2021-12-31 07:26:28.133769</td>\n",
       "      <td>0 days 00:00:01.459026</td>\n",
       "      <td>0.857708</td>\n",
       "      <td>11</td>\n",
       "      <td>0.580214</td>\n",
       "      <td>1.124464e-02</td>\n",
       "      <td>5.298364e-06</td>\n",
       "      <td>0.091827</td>\n",
       "      <td>230</td>\n",
       "      <td>20</td>\n",
       "      <td>76</td>\n",
       "      <td>485</td>\n",
       "      <td>20</td>\n",
       "      <td>2.478903e-05</td>\n",
       "      <td>COMPLETE</td>\n",
       "    </tr>\n",
       "  </tbody>\n",
       "</table>\n",
       "</div>"
      ],
      "text/plain": [
       "   number      value             datetime_start          datetime_complete  \\\n",
       "0       0  83.529143 2021-12-31 07:26:21.337195 2021-12-31 07:26:24.492885   \n",
       "1       1  82.696414 2021-12-31 07:26:24.494212 2021-12-31 07:26:26.673476   \n",
       "2       2  20.680800 2021-12-31 07:26:26.674743 2021-12-31 07:26:28.133769   \n",
       "\n",
       "                duration  params_bagging_fraction  params_bagging_freq  \\\n",
       "0 0 days 00:00:03.155690                 0.508583                    9   \n",
       "1 0 days 00:00:02.179264                 0.712115                   12   \n",
       "2 0 days 00:00:01.459026                 0.857708                   11   \n",
       "\n",
       "   params_feature_fraction  params_lambda_l1  params_lambda_l2  \\\n",
       "0                 0.650294      6.415572e-07      4.982401e-02   \n",
       "1                 0.703372      4.705313e-08      6.194418e-08   \n",
       "2                 0.580214      1.124464e-02      5.298364e-06   \n",
       "\n",
       "   params_learning_rate  params_max_bin  params_min_child_weight  \\\n",
       "0              0.000030             205                        6   \n",
       "1              0.000061             254                       17   \n",
       "2              0.091827             230                       20   \n",
       "\n",
       "   params_min_data_in_leaf  params_n_estimators  params_num_leaves  \\\n",
       "0                       22                  363                 14   \n",
       "1                       39                  323                 22   \n",
       "2                       76                  485                 20   \n",
       "\n",
       "   params_path_smooth     state  \n",
       "0        4.464380e-08  COMPLETE  \n",
       "1        2.821343e-08  COMPLETE  \n",
       "2        2.478903e-05  COMPLETE  "
      ]
     },
     "execution_count": 11,
     "metadata": {},
     "output_type": "execute_result"
    }
   ],
   "source": [
    "# trial에 대한 결과 출력\n",
    "lgbmoptuna.study.trials_dataframe()"
   ]
  },
  {
   "cell_type": "markdown",
   "id": "292b0af1",
   "metadata": {},
   "source": [
    "하이퍼파라미터 튜닝 결과 시각화"
   ]
  },
  {
   "cell_type": "code",
   "execution_count": null,
   "id": "cf8dcb62",
   "metadata": {},
   "outputs": [],
   "source": [
    "lgbmoptuna.visualize()"
   ]
  },
  {
   "cell_type": "markdown",
   "id": "c988302c",
   "metadata": {},
   "source": [
    "Best 하이퍼파라미터 출력"
   ]
  },
  {
   "cell_type": "code",
   "execution_count": 12,
   "id": "de86b4ae",
   "metadata": {},
   "outputs": [
    {
     "data": {
      "text/plain": [
       "{'lambda_l1': 0.011244644026182967,\n",
       " 'lambda_l2': 5.298363992080463e-06,\n",
       " 'path_smooth': 2.4789027860002685e-05,\n",
       " 'learning_rate': 0.09182657994717408,\n",
       " 'feature_fraction': 0.5802144206891808,\n",
       " 'bagging_fraction': 0.8577082120277062,\n",
       " 'num_leaves': 20,\n",
       " 'min_data_in_leaf': 76,\n",
       " 'max_bin': 230,\n",
       " 'n_estimators': 485,\n",
       " 'bagging_freq': 11,\n",
       " 'min_child_weight': 20}"
      ]
     },
     "execution_count": 12,
     "metadata": {},
     "output_type": "execute_result"
    }
   ],
   "source": [
    "lgbmoptuna.get_best_params()"
   ]
  }
 ],
 "metadata": {
  "kernelspec": {
   "display_name": "Python 3 (ipykernel)",
   "language": "python",
   "name": "python3"
  },
  "language_info": {
   "codemirror_mode": {
    "name": "ipython",
    "version": 3
   },
   "file_extension": ".py",
   "mimetype": "text/x-python",
   "name": "python",
   "nbconvert_exporter": "python",
   "pygments_lexer": "ipython3",
   "version": "3.7.10"
  }
 },
 "nbformat": 4,
 "nbformat_minor": 5
}
